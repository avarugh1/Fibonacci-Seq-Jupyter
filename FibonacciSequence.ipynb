{
 "cells": [
  {
   "cell_type": "markdown",
   "metadata": {},
   "source": [
    "# Fibonnaci Sequence\n",
    "\n",
    "## Explaining and Solving the Fibonnaci Sequence in different ways"
   ]
  },
  {
   "cell_type": "markdown",
   "metadata": {},
   "source": [
    "The Fibonacci Sequence is an interesting formula in mathematics. It follows the below formula:"
   ]
  },
  {
   "cell_type": "markdown",
   "metadata": {},
   "source": [
    "\\begin{equation}\n",
    "F_n = F_{n-1} + F_{n-2} \n",
    "\\end{equation} \n",
    "such that\n",
    "\\begin{align}\n",
    "{n > 1}, \\; {F_0 = 0},\\; and \\; {F_1 = 1}\n",
    "\\end{align}"
   ]
  },
  {
   "cell_type": "markdown",
   "metadata": {},
   "source": [
    "Here we can see the sequence will follow the pattern like so:"
   ]
  },
  {
   "cell_type": "markdown",
   "metadata": {},
   "source": [
    "\\begin{align}\n",
    "0,\\; 1,\\; 1,\\; 2,\\; 3,\\; 5,\\; 8,\\;...\n",
    "\\end{align}"
   ]
  },
  {
   "cell_type": "markdown",
   "metadata": {},
   "source": [
    "For the below solutions, we are assuming $F_n$ such that n can be 0 which would refer to the 0th index in the above sequence (sequence starts with index 0)."
   ]
  },
  {
   "cell_type": "markdown",
   "metadata": {},
   "source": [
    "### Solution 1\n",
    "\n",
    "One method of solving for $F_n$ in Python is with a recursive solution. With a base case, we can recursively call the same method while adding the results."
   ]
  },
  {
   "cell_type": "code",
   "execution_count": 26,
   "metadata": {},
   "outputs": [],
   "source": [
    "def fib_recursive(x):\n",
    "    if x < 2:\n",
    "        return x\n",
    "    else:\n",
    "        return fib_recursive(x-1) + fib_recursive(x-2)"
   ]
  },
  {
   "cell_type": "code",
   "execution_count": 28,
   "metadata": {},
   "outputs": [
    {
     "name": "stdout",
     "output_type": "stream",
     "text": [
      "34\n"
     ]
    }
   ],
   "source": [
    "x = 9\n",
    "print(fib_recursive(x))"
   ]
  },
  {
   "cell_type": "markdown",
   "metadata": {},
   "source": [
    "Now this solution is satisfactory and all, but we can do a bit better."
   ]
  },
  {
   "cell_type": "markdown",
   "metadata": {},
   "source": [
    "### Solution 2\n",
    "\n",
    "For the second solution, let's utilize memoization to prevent duplicate work. This will prevent recursing all the way down to the base case in most cases."
   ]
  },
  {
   "cell_type": "code",
   "execution_count": 29,
   "metadata": {
    "scrolled": true
   },
   "outputs": [],
   "source": [
    "def fib_memo(x):\n",
    "    if x < 2:\n",
    "        return x ## also prevents cache access error\n",
    "    \n",
    "    cache = (x+1) * [None]\n",
    "    cache[0] = 0\n",
    "    cache[1] = 1\n",
    "    \n",
    "    for y in range (2, (x+1)):\n",
    "        cache[y] = cache[y-1] + cache[y-2]\n",
    "    \n",
    "    return cache[x]"
   ]
  },
  {
   "cell_type": "code",
   "execution_count": 30,
   "metadata": {
    "scrolled": true
   },
   "outputs": [
    {
     "name": "stdout",
     "output_type": "stream",
     "text": [
      "34\n"
     ]
    }
   ],
   "source": [
    "x = 9\n",
    "print(fib_memo(x))"
   ]
  },
  {
   "cell_type": "markdown",
   "metadata": {},
   "source": [
    "So here, we can see prevent repetitive work by incrementally going through and storing previous results. With a few tweaks, our cache could even serve as a global lookup to greatly reduce computation times for future requests depending on the actual cache size and the desired input values."
   ]
  },
  {
   "cell_type": "markdown",
   "metadata": {},
   "source": [
    "### Solution 3\n",
    "\n",
    "For our last solution, we'll provide a bit of an improvement on the cache lookup. Based on the Fibonacci formula, we actually don't need to store all the previous numbers - we only need to store the last two."
   ]
  },
  {
   "cell_type": "code",
   "execution_count": 31,
   "metadata": {},
   "outputs": [],
   "source": [
    "def fib_memo_improved(x):\n",
    "    if x < 2:\n",
    "        return x\n",
    "    \n",
    "    x_a = 0 ## n-2\n",
    "    x_b = 1 ## n-1\n",
    "    \n",
    "    for y in range (2, x):\n",
    "        tmp = x_a\n",
    "        x_a = x_b\n",
    "        x_b = tmp + x_a\n",
    "        \n",
    "    return x_a + x_b"
   ]
  },
  {
   "cell_type": "code",
   "execution_count": 32,
   "metadata": {},
   "outputs": [
    {
     "name": "stdout",
     "output_type": "stream",
     "text": [
      "34\n"
     ]
    }
   ],
   "source": [
    "x = 9\n",
    "print(fib_memo_improved(x))"
   ]
  },
  {
   "cell_type": "markdown",
   "metadata": {},
   "source": [
    "### Summary\n",
    "\n",
    "Using 3 different solutions, we can see optimizations that can be made to a simple problem. Here's an example with some simple timing that can be played around with!"
   ]
  },
  {
   "cell_type": "code",
   "execution_count": 34,
   "metadata": {
    "scrolled": true
   },
   "outputs": [
    {
     "data": {
      "application/vnd.jupyter.widget-view+json": {
       "model_id": "8e64d26582c048509b90bab6b0ef408d",
       "version_major": 2,
       "version_minor": 0
      },
      "text/plain": [
       "IntText(value=30, description='Fib index:')"
      ]
     },
     "metadata": {},
     "output_type": "display_data"
    },
    {
     "name": "stdout",
     "output_type": "stream",
     "text": [
      "fib_recursive took 0.402279 seconds for finding Fib(31)!\n",
      "fib_memo took 8.4e-06 seconds for finding Fib(31)!\n",
      "fib_memo_improved took 2.8e-06 seconds for finding Fib(31)!\n",
      "\n",
      "fib_recursive took 0.6509508 seconds for finding Fib(32)!\n",
      "fib_memo took 9e-06 seconds for finding Fib(32)!\n",
      "fib_memo_improved took 3.2e-06 seconds for finding Fib(32)!\n",
      "\n",
      "fib_recursive took 11.5164688 seconds for finding Fib(38)!\n",
      "fib_memo took 9.5e-06 seconds for finding Fib(38)!\n",
      "fib_memo_improved took 3.6e-06 seconds for finding Fib(38)!\n",
      "\n"
     ]
    }
   ],
   "source": [
    "import time\n",
    "import ipywidgets as widgets\n",
    "from IPython.display import display\n",
    "\n",
    "def my_timer(funct, value):\n",
    "    start = time.perf_counter()\n",
    "    funct(value)\n",
    "    end = time.perf_counter()\n",
    "    msg = funct.__name__ + \" took \" + str(round(end - start, 7)) + \\\n",
    "    \" seconds for finding Fib(\"+str(value) + \")!\"\n",
    "    print(msg)\n",
    "    \n",
    "def wrapper(change):\n",
    "    my_timer(fib_recursive, change['new'])\n",
    "    my_timer(fib_memo, change['new'])\n",
    "    my_timer(fib_memo_improved, change['new'])\n",
    "    print(\"\")\n",
    "\n",
    "input_box = widgets.IntText(value=30, description='Fib index:', continuous_update=False, disabled=False)\n",
    "display(input_box)\n",
    "## careful! Sufficiently large numbers will cause long times with the recursive function\n",
    "input_box.observe(wrapper, names='value')"
   ]
  }
 ],
 "metadata": {
  "kernelspec": {
   "display_name": "Python 3",
   "language": "python",
   "name": "python3"
  },
  "language_info": {
   "codemirror_mode": {
    "name": "ipython",
    "version": 3
   },
   "file_extension": ".py",
   "mimetype": "text/x-python",
   "name": "python",
   "nbconvert_exporter": "python",
   "pygments_lexer": "ipython3",
   "version": "3.6.9"
  }
 },
 "nbformat": 4,
 "nbformat_minor": 4
}
